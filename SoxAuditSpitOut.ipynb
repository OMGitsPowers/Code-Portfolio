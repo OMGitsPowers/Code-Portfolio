{
  "nbformat": 4,
  "nbformat_minor": 0,
  "metadata": {
    "colab": {
      "provenance": [],
      "authorship_tag": "ABX9TyMytCixKLRm7pb91xDtdeET",
      "include_colab_link": true
    },
    "kernelspec": {
      "name": "python3",
      "display_name": "Python 3"
    },
    "language_info": {
      "name": "python"
    }
  },
  "cells": [
    {
      "cell_type": "markdown",
      "metadata": {
        "id": "view-in-github",
        "colab_type": "text"
      },
      "source": [
        "<a href=\"https://colab.research.google.com/github/OMGitsPowers/Code-Portfolio/blob/main/SoxAuditSpitOut.ipynb\" target=\"_parent\"><img src=\"https://colab.research.google.com/assets/colab-badge.svg\" alt=\"Open In Colab\"/></a>"
      ]
    },
    {
      "cell_type": "code",
      "execution_count": null,
      "metadata": {
        "colab": {
          "base_uri": "https://localhost:8080/"
        },
        "id": "PipxABHqB3R_",
        "outputId": "056455a4-4e7d-49b5-c538-72838c8f19e6"
      },
      "outputs": [
        {
          "output_type": "stream",
          "name": "stdout",
          "text": [
            "What line does the data start on? 18\n",
            "<class 'int'>\n",
            "How many samples are there to parse? 62\n",
            "<class 'int'>\n",
            "    Samples    Period    RPT_DT  SITE              DT_RANGE  CO  DIV  FRANCH  \\\n",
            "0         1   October  11/01/23     1  10/01/23 to 10/31/23   1   28     903   \n",
            "1         2   October  11/01/23     1  10/01/23 to 10/31/23   3   65     573   \n",
            "2         3   October  11/01/23     1  10/01/23 to 10/31/23   4   57     721   \n",
            "3         4   October  11/01/23     1  10/01/23 to 10/31/23   4   59     907   \n",
            "4         5   October  11/01/23     1  10/01/23 to 10/31/23   4   59     907   \n",
            "..      ...       ...       ...   ...                   ...  ..  ...     ...   \n",
            "57       58  December   1/01/24     1  12/01/23 to 12/31/23   1   27     722   \n",
            "58       59  December   1/01/24     1  12/01/23 to 12/31/23   1   27     703   \n",
            "59       60  December   1/01/24     1  12/01/23 to 12/31/23   1   27     717   \n",
            "60       61  December   1/01/24     1  12/01/23 to 12/31/23   1   27     704   \n",
            "61       62  December   1/01/24     1  12/01/23 to 12/31/23   1   27     728   \n",
            "\n",
            "    MINOR  AR_CODE  ...  BILL_AD_CNT BILL_PR_AMT  BILL_AD_AMT  BILL_FROM_DT  \\\n",
            "0   14187        1  ...            0        1.00         0.00      10/02/23   \n",
            "1   14027        1  ...            0       86.44         0.00      10/01/23   \n",
            "2   54033        1  ...            0       69.99         0.00      10/24/23   \n",
            "3   14029        1  ...            0       65.99         0.00      10/10/23   \n",
            "4   14083        1  ...            0       26.00         0.00      10/06/23   \n",
            "..    ...      ...  ...          ...         ...          ...           ...   \n",
            "57  14152        1  ...            0       19.79         0.00      12/22/23   \n",
            "58  54089        1  ...            1        0.00      1066.67      12/30/23   \n",
            "59  14029        1  ...            1        0.00       106.44      12/27/23   \n",
            "60  54033        1  ...            1        0.00        79.99      12/06/23   \n",
            "61  14160        1  ...            1        0.00        10.00      12/03/23   \n",
            "\n",
            "   BILL_TO_DT  CUR_CHARGES_AMT  DEF_1_MONTH_AMT  DEF_2_MONTH_AMT  INT_PPV_AMT  \\\n",
            "0    11/01/23             0.97             0.03                0            0   \n",
            "1    10/31/23            86.44             0.00                0            0   \n",
            "2    11/23/23            16.33            53.66                0            0   \n",
            "3    11/09/23            46.19            19.80                0            0   \n",
            "4    11/05/23            21.67             4.33                0            0   \n",
            "..        ...              ...              ...              ...          ...   \n",
            "57    1/21/24             5.94            13.85                0            0   \n",
            "58    1/29/24            35.56          1031.11                0            0   \n",
            "59    1/26/24            14.19            92.25                0            0   \n",
            "60    1/05/24            66.66            13.33                0            0   \n",
            "61    1/02/24             9.33             0.67                0            0   \n",
            "\n",
            "   Resource  \n",
            "0       NaN  \n",
            "1       NaN  \n",
            "2       NaN  \n",
            "3       NaN  \n",
            "4       NaN  \n",
            "..      ...  \n",
            "57      NaN  \n",
            "58      NaN  \n",
            "59      NaN  \n",
            "60      NaN  \n",
            "61      NaN  \n",
            "\n",
            "[62 rows x 26 columns]\n"
          ]
        }
      ],
      "source": [
        "import pandas as pd\n",
        "import openpyxl\n",
        "\n",
        "s = input(\"What line does the data start on? \")\n",
        "start = int(s) - 1\n",
        "\n",
        "print(type(start))\n",
        "\n",
        "sam = input(\"How many samples are there to parse? \")\n",
        "samp = int(sam)\n",
        "\n",
        "print(type(samp))\n",
        "\n",
        "audit = pd.read_excel('/content/Q4 Revenue Selections - Pricing JLC.xlsx', header = start)\n",
        "wb = openpyxl.load_workbook('/content/Q4 Revenue Selections - Pricing JLC.xlsx')\n",
        "\n",
        "print(audit)\n",
        "\n",
        "head = ['Samples',\t'Period',\t'RPT_DT',\t'SITE',\t'DT_RANGE',\t'CO',\t'DIV',\t'FRANCH',\t'MINOR',\t'AR_CODE',\n",
        "        'SVC_CD',\t'SVC_CD_DESCR',\t'CUST_ACCT',\t'WO_NUM',\t'CHRG_CODE',\t'BILL_PR_CNT',\t'BILL_AD_CNT',\n",
        "        'BILL_PR_AMT',\t'BILL_AD_AMT',\t'BILL_FROM_DT',\t'BILL_TO_DT',\t'CUR_CHARGES_AMT',\n",
        "        'DEF_1_MONTH_AMT',\t'DEF_2_MONTH_AMT',\t'INT_PPV_AMT',\t'Resource']\n",
        "\n",
        "#Creates workbook for the accounts and adds rows of data\n",
        "for value in range(samp):\n",
        "  acct = str(audit.iloc[value, 0]) + ' - ' + str(audit.iloc[value, 12])\n",
        "  ws2 = wb.create_sheet(title=acct)\n",
        "  #head1 is not used...Not working as intended..pissing me off\n",
        "  head1 = list(audit.loc[start].copy())\n",
        "  ws2.append(head)\n",
        "  row_2 = list(audit.loc[value].copy())\n",
        "  ws2.append(row_2)\n",
        "\n",
        "\n",
        "wb.save('Q4 Revenue Selections - Pricing JLC_BrokeDown.xlsx')\n",
        "\n"
      ]
    }
  ]
}