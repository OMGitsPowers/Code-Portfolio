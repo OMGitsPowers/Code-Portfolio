{
  "nbformat": 4,
  "nbformat_minor": 0,
  "metadata": {
    "colab": {
      "provenance": [],
      "authorship_tag": "ABX9TyMytCixKLRm7pb91xDtdeET",
      "include_colab_link": true
    },
    "kernelspec": {
      "name": "python3",
      "display_name": "Python 3"
    },
    "language_info": {
      "name": "python"
    }
  },
  "cells": [
    {
      "cell_type": "markdown",
      "metadata": {
        "id": "view-in-github",
        "colab_type": "text"
      },
      "source": [
        "<a href=\"https://colab.research.google.com/github/OMGitsPowers/Code-Portfolio/blob/main/SoxAuditSpitOut.ipynb\" target=\"_parent\"><img src=\"https://colab.research.google.com/assets/colab-badge.svg\" alt=\"Open In Colab\"/></a>"
      ]
    },
    {
      "cell_type": "code",
      "execution_count": null,
      "metadata": {
        "colab": {
          "base_uri": "https://localhost:8080/"
        },
        "id": "PipxABHqB3R_",
        "outputId": "056455a4-4e7d-49b5-c538-72838c8f19e6"
      },
      "source": [
        "import pandas as pd\n",
        "import openpyxl\n",
        "\n",
        "s = input(\"What line does the data start on? \")\n",
        "start = int(s) - 1\n",
        "\n",
        "print(type(start))\n",
        "\n",
        "sam = input(\"How many samples are there to parse? \")\n",
        "samp = int(sam)\n",
        "\n",
        "print(type(samp))\n",
        "\n",
        "audit = pd.read_excel('/content/Q4 Revenue Selections - Pricing JLC.xlsx', header = start)\n",
        "wb = openpyxl.load_workbook('/content/Q4 Revenue Selections - Pricing JLC.xlsx')\n",
        "\n",
        "print(audit)\n",
        "\n",
        "head = ['Samples',\t'Period',\t'RPT_DT',\t'SITE',\t'DT_RANGE',\t'CO',\t'DIV',\t'FRANCH',\t'MINOR',\t'AR_CODE',\n",
        "        'SVC_CD',\t'SVC_CD_DESCR',\t'CUST_ACCT',\t'WO_NUM',\t'CHRG_CODE',\t'BILL_PR_CNT',\t'BILL_AD_CNT',\n",
        "        'BILL_PR_AMT',\t'BILL_AD_AMT',\t'BILL_FROM_DT',\t'BILL_TO_DT',\t'CUR_CHARGES_AMT',\n",
        "        'DEF_1_MONTH_AMT',\t'DEF_2_MONTH_AMT',\t'INT_PPV_AMT',\t'Resource']\n",
        "\n",
        "#Creates workbook for the accounts and adds rows of data\n",
        "for value in range(samp):\n",
        "  acct = str(audit.iloc[value, 0]) + ' - ' + str(audit.iloc[value, 12])\n",
        "  ws2 = wb.create_sheet(title=acct)\n",
        "  #head1 is not used...Not working as intended..pissing me off\n",
        "  head1 = list(audit.loc[start].copy())\n",
        "  ws2.append(head)\n",
        "  row_2 = list(audit.loc[value].copy())\n",
        "  ws2.append(row_2)\n",
        "\n",
        "\n",
        "wb.save('Q4 Revenue Selections - Pricing JLC_BrokeDown.xlsx')\n",
        "\n"
      ]
    }
  ]
}
